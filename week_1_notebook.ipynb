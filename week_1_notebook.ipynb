{
 "cells": [
  {
   "cell_type": "markdown",
   "id": "95002513-62db-452b-85a9-093d5c7e292a",
   "metadata": {},
   "source": [
    "Oceanography python bootcamp, Winter 2025\n",
    "# Week 1 notebook"
   ]
  },
  {
   "cell_type": "markdown",
   "id": "93163ebf-8b43-42eb-9b79-c234b3ddd8e8",
   "metadata": {},
   "source": [
    "## Some notes on the notebook interface"
   ]
  },
  {
   "cell_type": "markdown",
   "id": "b45b8ee2-3bf8-417f-ad3f-690e44c9fdae",
   "metadata": {},
   "source": [
    "Jupyter notebook has a **command mode** and an **edit mode**\n",
    "\n",
    "+ You're in edit mode if you see a cursor. Otherwise you're in command mode\n",
    "\n",
    "A jupyter notebook is consists of cells, there are 3 types of cells, 2 of which you'll work with often\n",
    " \n",
    "+ A markdown cell (like this one) can be used to display rich text content\n",
    "+ A code cell is where you run your python code\n",
    "+ You are working with a code cell if you see square brackets `[]` on the left side of the cell"
   ]
  },
  {
   "cell_type": "markdown",
   "id": "8bcd2d1f-25df-49b5-abfc-909a1b0b1701",
   "metadata": {},
   "source": [
    "Useful command mode shortcuts:\n",
    "+ Insert cell above: `a`\n",
    "+ Insert cell below: `b`\n",
    "+ Convert to markdown cell: `m`\n",
    "+ Convert to code cell: `y`\n",
    "+ Cut (`x`), copy(`c`), and paste (`v`)\n",
    "+ Delete current cell: `d` , `d`\n",
    "\n",
    "\n",
    "Useful edit mode shortcuts:\n",
    "+ Indent selected text: `tab`\n",
    "+ Unindent selected text: `shift` + `tab`\n",
    "+ Toggle commenting: `ctrl` + `/`\n",
    "\n",
    "In **both** modes,\n",
    "+ Run/render current cell: `shift` + `enter`"
   ]
  },
  {
   "cell_type": "markdown",
   "id": "02b2be87-d8b3-44ea-8bb1-8603c5462de8",
   "metadata": {},
   "source": [
    "----\n",
    "\n",
    "_**Exercise #1.**_ Insert a markdown cell below that says \"Hello World!\", then add a code cell **above** that reads `\"hello_world\"`. Execute the code cell."
   ]
  },
  {
   "cell_type": "markdown",
   "id": "df36293b-1cc3-42d6-ba96-6c224171f4d4",
   "metadata": {},
   "source": [
    "## Some notes on frontend versus kernel"
   ]
  },
  {
   "cell_type": "markdown",
   "id": "b1b300ae-4f29-402f-b98f-c9616d6041ac",
   "metadata": {},
   "source": [
    "When you press `shift` + `enter` on a code cell, the codes in the block is sent to the python kernel, which execute the codes and returns the results to the frontend, and the frontend then display it to you\n",
    "\n",
    "Importantly, the kernels only know about the codes being executed, it has **no knowledge** about the layout of the notebook document!"
   ]
  },
  {
   "cell_type": "markdown",
   "id": "81d79786-6597-4378-8bb6-c930b2dec5b5",
   "metadata": {},
   "source": [
    "----\n",
    "\n",
    "_**Exploration #2.**_ Execute the cells below **out of order**, and observe the results"
   ]
  },
  {
   "cell_type": "code",
   "execution_count": null,
   "id": "08bad7c7-eaad-4036-b402-f20356d3dceb",
   "metadata": {},
   "outputs": [],
   "source": [
    "x = 3"
   ]
  },
  {
   "cell_type": "code",
   "execution_count": null,
   "id": "49209d12-460a-46b1-ae21-66a2dfa25a96",
   "metadata": {},
   "outputs": [],
   "source": [
    "x + 3"
   ]
  },
  {
   "cell_type": "code",
   "execution_count": null,
   "id": "e35c99f4-e90b-4a17-8ae4-8da9dbcd9e35",
   "metadata": {},
   "outputs": [],
   "source": [
    "x = 4"
   ]
  },
  {
   "cell_type": "code",
   "execution_count": null,
   "id": "4aec7492-8274-442a-9725-8ff722c1524b",
   "metadata": {},
   "outputs": [],
   "source": [
    "x / 4"
   ]
  },
  {
   "cell_type": "markdown",
   "id": "8ea8464d-c855-434a-99c9-6c8d3b1846cc",
   "metadata": {},
   "source": [
    "## Some notes on markdown"
   ]
  },
  {
   "cell_type": "markdown",
   "id": "8713a12f-d3a3-4def-94e7-fd5c1949734f",
   "metadata": {},
   "source": [
    "As explained above, markdown cell can be used provide rich text output. Some useful syntax you may want to know:\n",
    "   \n",
    "To make a heading, preceed the line with `#` (the more `#` the higher the heading sublevel, e.g.,\n",
    "\n",
    "## This is useful for section heading\n",
    "\n",
    "### This is useful for subsection heading\n",
    "\n",
    "To make characters bold, surround it with `**` on both sides, e.g., **bold text here**\n",
    "\n",
    "To make characters italic, surround it with `_` on both sides, e.g., _this is in italic_\n",
    "\n",
    "To typeset text in \"code font\", surround it with `` ` `` on both sides, e.g., `x`\n",
    "\n",
    "To typeset text in math font (and to write math equations), sourround it with `$`, e.g., $\\sqrt{x^2 + 1}$\n",
    "\n",
    "To make an unordered list, start each new line with `+` and use indent, e.g., \n",
    "\n",
    "+ This is an item on a list\n",
    "    + And the list can be nested\n",
    " \n",
    "To make an ordered list, use `1.` instead, e.g.,\n",
    "\n",
    "1. This is the first point\n",
    "1. This is the second point (note that numbering is automatic)\n"
   ]
  },
  {
   "cell_type": "raw",
   "id": "de5e48d9-c482-49b4-af03-d27eb95e5439",
   "metadata": {},
   "source": [
    "(This is a raw cell containing the exact content as the cell above, but will NOT be rendered)\n",
    "\n",
    "As explained above, markdown cell can be used provide rich text output. Some useful syntax you may want to know:\n",
    "   \n",
    "To make a heading, preceed the line with `#` (the more `#` the higher the heading sublevel, e.g.,\n",
    "\n",
    "## This is useful for section heading\n",
    "\n",
    "### This is useful for subsection heading\n",
    "\n",
    "To make characters bold, surround it with `**` on both sides, e.g., **bold text here**\n",
    "\n",
    "To make characters italic, surround it with `_` on both sides, e.g., _this is in italic_\n",
    "\n",
    "To typeset text in \"code font\", surround it with `` ` `` on both sides, e.g., `x`\n",
    "\n",
    "To typeset text in math font (and to write math equations), sourround it with `$`, e.g., $\\sqrt{x^2 + 1}$\n",
    "\n",
    "To make an unordered list, start each new line with `+` and use indent, e.g., \n",
    "\n",
    "+ This is an item on a list\n",
    "    + And the list can be nested\n",
    " \n",
    "To make an ordered list, use `1.` instead, e.g.,\n",
    "\n",
    "1. This is the first point\n",
    "1. This is the second point (note that numbering is automatic)"
   ]
  },
  {
   "cell_type": "markdown",
   "id": "6e47cf50-7805-4de6-ab37-c63ece0132eb",
   "metadata": {},
   "source": [
    "----\n",
    "\n",
    "_**Exercise #3.**_ Reproduce the example output below using a single markdown cell:\n",
    "\n",
    "![example_output](https://github.com/wingho-uw/python-bootcamp-wk1/blob/main/img/markdown_output.png?raw=true)"
   ]
  },
  {
   "cell_type": "markdown",
   "id": "4b7ff020-72bc-466f-8c39-d46b0c4d64cb",
   "metadata": {},
   "source": [
    "## python as a calculator"
   ]
  },
  {
   "cell_type": "code",
   "execution_count": null,
   "id": "3d32f9a0-4fae-46d7-bfbf-8f09e8d36e21",
   "metadata": {},
   "outputs": [],
   "source": [
    "# Basic arithmetic operation\n",
    "3 * 4**2"
   ]
  },
  {
   "cell_type": "code",
   "execution_count": null,
   "id": "8b4181b5-04a7-4df9-9c39-2732f977f416",
   "metadata": {},
   "outputs": [],
   "source": [
    "# force precedence using brackets\n",
    "(3 * 4) ** 2"
   ]
  },
  {
   "cell_type": "code",
   "execution_count": null,
   "id": "41e86307-7e68-4d5b-9887-d5dd121e6d42",
   "metadata": {},
   "outputs": [],
   "source": [
    "# Example of floor division\n",
    "7 // 2"
   ]
  },
  {
   "cell_type": "code",
   "execution_count": null,
   "id": "f84f7c95-b7e4-40ef-b7fd-2a5d67b38065",
   "metadata": {},
   "outputs": [],
   "source": [
    "# Example of modulus operator\n",
    "7 % 2"
   ]
  },
  {
   "cell_type": "code",
   "execution_count": null,
   "id": "520a30d6-c77b-40cc-8910-e240984911fc",
   "metadata": {},
   "outputs": [],
   "source": [
    "# applying mathematical function\n",
    "abs(3 - 10)"
   ]
  },
  {
   "cell_type": "markdown",
   "id": "c6f05015-bcf8-4f2f-b3f3-e404aedf5535",
   "metadata": {},
   "source": [
    "----\n",
    "\n",
    "_**Debugging #4.**_ Suppose you want to calculate $\\sqrt{x^2 + 1}$ , where $x$ = 0.75, what’s wrong with the code below? Correct the mistake and run the code to obtain an answer.\n",
    "```python\n",
    "x = 7.5e-1\n",
    "(x**2 + 1)**1/2\n",
    "```"
   ]
  },
  {
   "cell_type": "markdown",
   "id": "0803a892-6e49-4040-bf45-2ebb35f24c25",
   "metadata": {},
   "source": [
    "## Variables in python"
   ]
  },
  {
   "cell_type": "code",
   "execution_count": null,
   "id": "080671ca-291c-403c-a074-4c5cc13a2d9d",
   "metadata": {},
   "outputs": [],
   "source": [
    "# variable assignment and usage\n",
    "x = 5\n",
    "x + 3"
   ]
  },
  {
   "cell_type": "code",
   "execution_count": null,
   "id": "e7aa20c8-e6a0-4520-a408-cf363f274044",
   "metadata": {},
   "outputs": [],
   "source": [
    "# good and bad variable name\n",
    "value = 5 # good\n",
    "2good2beTrue = 3 # bad"
   ]
  },
  {
   "cell_type": "code",
   "execution_count": null,
   "id": "68e78867-6d0d-444b-b7d8-f4ac635c9592",
   "metadata": {},
   "outputs": [],
   "source": [
    "# changing variable type during computation\n",
    "x = 3\n",
    "x = \"this\"\n",
    "print(x)"
   ]
  },
  {
   "cell_type": "code",
   "execution_count": null,
   "id": "59b117f5-2c95-40d5-89ce-cbb35389ccda",
   "metadata": {},
   "outputs": [],
   "source": [
    "# Check the type of variable using type\n",
    "x = 3.14\n",
    "type(x)"
   ]
  },
  {
   "cell_type": "markdown",
   "id": "b9ecdce5-7573-4710-b721-5a44c0b2acb6",
   "metadata": {},
   "source": [
    "## String data type"
   ]
  },
  {
   "cell_type": "code",
   "execution_count": null,
   "id": "8982ed5d-757a-493f-9b8b-00a6fef14517",
   "metadata": {},
   "outputs": [],
   "source": [
    "# assigning string using double quote\n",
    "x = \"This is a string\"\n",
    "x"
   ]
  },
  {
   "cell_type": "code",
   "execution_count": null,
   "id": "5b9f078b-4496-424a-9e3b-e92cb671e303",
   "metadata": {},
   "outputs": [],
   "source": [
    "# assigning string using single quote\n",
    "y = 'This is a string'\n",
    "y"
   ]
  },
  {
   "cell_type": "code",
   "execution_count": null,
   "id": "51f89b63-228a-4799-b2d0-47564fbe6d93",
   "metadata": {},
   "outputs": [],
   "source": [
    "# The two strings are EQUAL\n",
    "x == y"
   ]
  },
  {
   "cell_type": "code",
   "execution_count": null,
   "id": "49716296-312c-447a-8682-547b58d57eac",
   "metadata": {},
   "outputs": [],
   "source": [
    "# string that spans multiple lines\n",
    "s3 = '''\n",
    "This is a string\n",
    "that spans over\n",
    "3 (or is it 5?) lines\n",
    "'''\n",
    "\n",
    "print(s3)"
   ]
  },
  {
   "cell_type": "code",
   "execution_count": null,
   "id": "65c61224-93cb-4ea9-a390-a68a5dfbe900",
   "metadata": {},
   "outputs": [],
   "source": [
    "# Using escape character to deal with string with ' and \"\n",
    "z = \"It's a \\\"string\\\" with both \\' and \\\"\"\n",
    "print(z)"
   ]
  },
  {
   "cell_type": "code",
   "execution_count": null,
   "id": "407018e5-310b-4fac-a148-3b81760a900b",
   "metadata": {},
   "outputs": [],
   "source": [
    "# parsing string as number\n",
    "int(\"425\")"
   ]
  },
  {
   "cell_type": "code",
   "execution_count": null,
   "id": "a081f741-eb32-4371-a261-a88bcc72cd20",
   "metadata": {},
   "outputs": [],
   "source": [
    "# convert a number to string representation\n",
    "str(2.71828)"
   ]
  },
  {
   "cell_type": "code",
   "execution_count": null,
   "id": "db951a2b-f162-45a6-a493-f3150f3564ec",
   "metadata": {},
   "outputs": [],
   "source": [
    "# casefolding\n",
    "\"hello\".upper()"
   ]
  },
  {
   "cell_type": "code",
   "execution_count": null,
   "id": "6bf8085b-251a-444e-b9e2-18abd2d85c03",
   "metadata": {},
   "outputs": [],
   "source": [
    "# string replacement\n",
    "\"Hello world!\".replace(\"world\", \"Wingho\")"
   ]
  },
  {
   "cell_type": "code",
   "execution_count": null,
   "id": "55e1c777-9f3f-4bf6-8b06-bfb0c6fd7909",
   "metadata": {},
   "outputs": [],
   "source": [
    "# an example of f-string\n",
    "val = 2.718281828\n",
    "f\"The value of e is approximately {val:.5f}\""
   ]
  },
  {
   "cell_type": "markdown",
   "id": "525fc8b7-13a2-4bca-b510-a3a793a4ea2d",
   "metadata": {},
   "source": [
    "----\n",
    "\n",
    "_**Code generation #7.**_ string normalization: you want to make your strings safe for use as variable name. This requires\n",
    "\n",
    "+ The entire string should be lower-cased\n",
    "+ There should be no spaces in the string. Instead, underscore should be used to join words\n",
    "\n",
    "Make sure your code works for the test string below."
   ]
  },
  {
   "cell_type": "code",
   "execution_count": null,
   "id": "e26fde64-65ab-4112-aa7f-a8cc4aa905c5",
   "metadata": {},
   "outputs": [],
   "source": [
    "original = \" Project start date \"\n",
    "\n",
    "# complete the conversion\n",
    "modified = ...\n",
    "print(modified)"
   ]
  }
 ],
 "metadata": {
  "kernelspec": {
   "display_name": "Python 3 (ipykernel)",
   "language": "python",
   "name": "python3"
  },
  "language_info": {
   "codemirror_mode": {
    "name": "ipython",
    "version": 3
   },
   "file_extension": ".py",
   "mimetype": "text/x-python",
   "name": "python",
   "nbconvert_exporter": "python",
   "pygments_lexer": "ipython3",
   "version": "3.12.8"
  }
 },
 "nbformat": 4,
 "nbformat_minor": 5
}
